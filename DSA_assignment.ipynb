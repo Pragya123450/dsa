{
  "nbformat": 4,
  "nbformat_minor": 0,
  "metadata": {
    "colab": {
      "provenance": []
    },
    "kernelspec": {
      "name": "python3",
      "display_name": "Python 3"
    },
    "language_info": {
      "name": "python"
    }
  },
  "cells": [
    {
      "cell_type": "code",
      "execution_count": null,
      "metadata": {
        "id": "z29ydfH79gVQ"
      },
      "outputs": [],
      "source": []
    },
    {
      "cell_type": "markdown",
      "source": [
        "# 1. Create a string with your name and print i"
      ],
      "metadata": {
        "id": "uswmOvoe9k5S"
      }
    },
    {
      "cell_type": "code",
      "source": [
        "name = \"Pragya\"\n",
        "print(name)\n"
      ],
      "metadata": {
        "colab": {
          "base_uri": "https://localhost:8080/"
        },
        "id": "L5NTmihz9qFv",
        "outputId": "e20766cd-6c61-431f-9d51-5a71a4af58fb"
      },
      "execution_count": 1,
      "outputs": [
        {
          "output_type": "stream",
          "name": "stdout",
          "text": [
            "Pragya\n"
          ]
        }
      ]
    },
    {
      "cell_type": "markdown",
      "source": [
        "2. Find the length of the string \"Hello World\""
      ],
      "metadata": {
        "id": "QaYJ9syZ93ry"
      }
    },
    {
      "cell_type": "code",
      "source": [],
      "metadata": {
        "id": "I89klY3H97MC"
      },
      "execution_count": null,
      "outputs": []
    },
    {
      "cell_type": "code",
      "source": [
        "text = \"Hello World\"\n",
        "print(len(text))\n"
      ],
      "metadata": {
        "colab": {
          "base_uri": "https://localhost:8080/"
        },
        "id": "EwLlwbmG99v8",
        "outputId": "01287b29-b4e7-45fe-d8e6-e78db63638f9"
      },
      "execution_count": 2,
      "outputs": [
        {
          "output_type": "stream",
          "name": "stdout",
          "text": [
            "11\n"
          ]
        }
      ]
    },
    {
      "cell_type": "markdown",
      "source": [
        "\n",
        "# 3. Slice the first 3 characters from \"Python Programming\"\n"
      ],
      "metadata": {
        "id": "26uOk68JDyxb"
      }
    },
    {
      "cell_type": "code",
      "source": [
        "string = \"Python Programming\"\n",
        "print(string[:3])\n"
      ],
      "metadata": {
        "id": "oNmMzLoTD-ko"
      },
      "execution_count": null,
      "outputs": []
    },
    {
      "cell_type": "markdown",
      "source": [
        " 4. Convert \"hello\" to uppercase"
      ],
      "metadata": {
        "id": "tGaV_ZZcEGMl"
      }
    },
    {
      "cell_type": "code",
      "source": [
        "word = \"hello\"\n",
        "print(word.upper())\n"
      ],
      "metadata": {
        "id": "aWk4PfuaEZ8K"
      },
      "execution_count": null,
      "outputs": []
    },
    {
      "cell_type": "markdown",
      "source": [
        "5. Replace \"apple\" with \"orange\" in \"I like apple\""
      ],
      "metadata": {
        "id": "cbf9DUSaEgY6"
      }
    },
    {
      "cell_type": "code",
      "source": [
        "sentence = \"i like apple\"\n",
        "print(sentence.replace(\"apple\",\"orange\"))"
      ],
      "metadata": {
        "id": "pTDuLPt0EjOj"
      },
      "execution_count": null,
      "outputs": []
    },
    {
      "cell_type": "markdown",
      "source": [
        "6. Create a list with numbers 1 to 5 and print it"
      ],
      "metadata": {
        "id": "wbD-mfCMFRiw"
      }
    },
    {
      "cell_type": "code",
      "source": [
        "numbers = [1, 2, 3, 4, 5]\n",
        "print(numbers)"
      ],
      "metadata": {
        "id": "wAIL6KioFWzH"
      },
      "execution_count": null,
      "outputs": []
    },
    {
      "cell_type": "markdown",
      "source": [
        "7. Append 10 to the list [1, 2, 3, 4]"
      ],
      "metadata": {
        "id": "RWV-RoN0FcYN"
      }
    },
    {
      "cell_type": "code",
      "source": [
        "my_list = [1, 2, 3, 4]\n",
        "my_list.append(10)\n",
        "print(my_list)\n"
      ],
      "metadata": {
        "id": "BuRlHiaJFhxe"
      },
      "execution_count": null,
      "outputs": []
    },
    {
      "cell_type": "markdown",
      "source": [
        "8. Remove the number 3 from the list [1, 2, 3, 4, 5]"
      ],
      "metadata": {
        "id": "BZkOKoMJFr43"
      }
    },
    {
      "cell_type": "code",
      "source": [
        "nums = [1, 2, 3, 4, 5]\n",
        "nums.remove(3)\n",
        "print(nums)"
      ],
      "metadata": {
        "id": "ze1anUChFti1"
      },
      "execution_count": null,
      "outputs": []
    },
    {
      "cell_type": "markdown",
      "source": [
        " 9. Access the second element in the list ['a', 'b', 'c', 'd']"
      ],
      "metadata": {
        "id": "TaVmR3_yFvxo"
      }
    },
    {
      "cell_type": "code",
      "source": [
        "letters = ['a', 'b', 'c', 'd']\n",
        "print(letters[1])"
      ],
      "metadata": {
        "id": "h3ecbJEBFyJH"
      },
      "execution_count": null,
      "outputs": []
    },
    {
      "cell_type": "markdown",
      "source": [
        "10. Reverse the list [10, 20, 30, 40, 50]"
      ],
      "metadata": {
        "id": "A-_E50XEF3_P"
      }
    },
    {
      "cell_type": "code",
      "source": [
        "my_list = [10, 20, 30, 40, 50]\n",
        "my_list.reverse()\n",
        "print(my_list)"
      ],
      "metadata": {
        "id": "ojh8T2m5F6-v"
      },
      "execution_count": null,
      "outputs": []
    },
    {
      "cell_type": "markdown",
      "source": [
        "11. Create a tuple with elements 100, 200, 300 and print it"
      ],
      "metadata": {
        "id": "5wSe3D3qF-3W"
      }
    },
    {
      "cell_type": "code",
      "source": [
        "my_tuple = (100, 200, 300)\n",
        "print(my_tuple)\n"
      ],
      "metadata": {
        "id": "T_ANL51fGBGd"
      },
      "execution_count": null,
      "outputs": []
    },
    {
      "cell_type": "markdown",
      "source": [
        "12. Access the second-to-last element of the tuple"
      ],
      "metadata": {
        "id": "8OgSuDb8GDVs"
      }
    },
    {
      "cell_type": "code",
      "source": [
        "colors = ('red', 'green', 'blue', 'yellow')\n",
        "print(colors[-2])\n"
      ],
      "metadata": {
        "id": "NLlJAb0rGGNg"
      },
      "execution_count": null,
      "outputs": []
    },
    {
      "cell_type": "markdown",
      "source": [
        "13. Find the minimum number in the tuple (10, 20, 5, 15)"
      ],
      "metadata": {
        "id": "xeaBAM8GGLIu"
      }
    },
    {
      "cell_type": "code",
      "source": [
        "nums = (10, 20, 5, 15)\n",
        "print(min(nums))"
      ],
      "metadata": {
        "id": "JBNsv-J3GSBs"
      },
      "execution_count": null,
      "outputs": []
    },
    {
      "cell_type": "markdown",
      "source": [
        " 14. Find the index of \"cat\" in the tuple ('dog', 'cat', 'rabbit')"
      ],
      "metadata": {
        "id": "aOiaVrDDGYMV"
      }
    },
    {
      "cell_type": "code",
      "source": [
        "animals = ('dog', 'cat', 'rabbit')\n",
        "print(animals.index(\"cat\"))\n"
      ],
      "metadata": {
        "id": "loa7Ag9zGasm"
      },
      "execution_count": null,
      "outputs": []
    },
    {
      "cell_type": "markdown",
      "source": [
        "15. Create a tuple of fruits and check if \"kiwi\" is in it"
      ],
      "metadata": {
        "id": "pjitk9T3GdT6"
      }
    },
    {
      "cell_type": "code",
      "source": [
        "fruits = (\"apple\", \"banana\", \"mango\")\n",
        "print(\"kiwi\" in fruits)"
      ],
      "metadata": {
        "id": "pZdpsNLJGfXi"
      },
      "execution_count": null,
      "outputs": []
    },
    {
      "cell_type": "markdown",
      "source": [
        "16. Create a set with the elements 'a', 'b', 'c' and print it"
      ],
      "metadata": {
        "id": "lrXBJtGgGk1k"
      }
    },
    {
      "cell_type": "code",
      "source": [
        "my_set = {'a', 'b', 'c'}\n",
        "print(my_set)"
      ],
      "metadata": {
        "colab": {
          "base_uri": "https://localhost:8080/"
        },
        "id": "bIwMWpaxHe0H",
        "outputId": "599ba58f-05cc-41a2-e312-8d69bbdb30a1"
      },
      "execution_count": 3,
      "outputs": [
        {
          "output_type": "stream",
          "name": "stdout",
          "text": [
            "{'a', 'c', 'b'}\n"
          ]
        }
      ]
    },
    {
      "cell_type": "markdown",
      "source": [
        "17. Clear all elements from the set {1, 2, 3, 4, 5}"
      ],
      "metadata": {
        "id": "NUc4OH5HHlfh"
      }
    },
    {
      "cell_type": "code",
      "source": [
        "s = {1, 2, 3, 4, 5}\n",
        "s.clear()\n",
        "print(s)"
      ],
      "metadata": {
        "id": "n_WTw67jIAJX"
      },
      "execution_count": null,
      "outputs": []
    },
    {
      "cell_type": "markdown",
      "source": [
        "18. Remove the element 4 from the set {1, 2, 3, 4}"
      ],
      "metadata": {
        "id": "poV4eOK0IMFd"
      }
    },
    {
      "cell_type": "code",
      "source": [
        "s = {1, 2, 3, 4}\n",
        "s.remove(4)\n",
        "print(s)\n"
      ],
      "metadata": {
        "id": "Ecw53y9TIUFR"
      },
      "execution_count": null,
      "outputs": []
    },
    {
      "cell_type": "markdown",
      "source": [
        "19. Union of two sets {1, 2, 3} and {3, 4, 5}"
      ],
      "metadata": {
        "id": "cjvIKi1DIX5_"
      }
    },
    {
      "cell_type": "code",
      "source": [
        "set1 = {1, 2, 3} set2 = {3, 4, 5} print(set1.union(set2))"
      ],
      "metadata": {
        "id": "C-GKwCSAI35u"
      },
      "execution_count": null,
      "outputs": []
    },
    {
      "cell_type": "markdown",
      "source": [
        " 20. Intersection of two sets {1, 2, 3} and {2, 3, 4}"
      ],
      "metadata": {
        "id": "wb0onSJCItzA"
      }
    },
    {
      "cell_type": "code",
      "source": [
        "set1 = {1, 2, 3}\n",
        "set2 = {2, 3, 4}\n",
        "print(set1.intersection(set2))\n"
      ],
      "metadata": {
        "id": "6Re-_cwOIyAG"
      },
      "execution_count": null,
      "outputs": []
    },
    {
      "cell_type": "markdown",
      "source": [
        "21. Create a dictionary with the keys \"name\", \"age\", and \"city\", and print it"
      ],
      "metadata": {
        "id": "KWGdsNb-I8PR"
      }
    },
    {
      "cell_type": "code",
      "source": [
        "person = {\"name\": \"John\", \"age\": 25, \"city\": \"New York\"}\n",
        "print(person)"
      ],
      "metadata": {
        "id": "7upzHDLSJAZp"
      },
      "execution_count": null,
      "outputs": []
    },
    {
      "cell_type": "markdown",
      "source": [
        "22. Add a new key-value pair \"country\": \"USA\" to the dictionary"
      ],
      "metadata": {
        "id": "MjTsraqwJCar"
      }
    },
    {
      "cell_type": "code",
      "source": [
        "person = {'name': 'John', 'age': 25}\n",
        "person['country'] = 'USA'\n",
        "print(person)"
      ],
      "metadata": {
        "id": "MxueCGljJJol"
      },
      "execution_count": null,
      "outputs": []
    },
    {
      "cell_type": "markdown",
      "source": [
        "23. Access the value associated with the key \"name\""
      ],
      "metadata": {
        "id": "Tqhi17ppJMk2"
      }
    },
    {
      "cell_type": "code",
      "source": [
        "person = {'name': 'Alice', 'age': 30}\n",
        "print(person['name'])"
      ],
      "metadata": {
        "id": "mExF-fe6JO25"
      },
      "execution_count": null,
      "outputs": []
    },
    {
      "cell_type": "markdown",
      "source": [
        "24. Remove the key \"age\" from the dictionary"
      ],
      "metadata": {
        "id": "wpPV_5cDJQti"
      }
    },
    {
      "cell_type": "code",
      "source": [
        "person = {'name': 'Bob', 'age': 22, 'city': 'New York'}\n",
        "del person['age']\n",
        "print(person)"
      ],
      "metadata": {
        "id": "OFfxKHFYJTEb"
      },
      "execution_count": null,
      "outputs": []
    },
    {
      "cell_type": "markdown",
      "source": [
        "25. Check if the key \"city\" exists in the dictionary"
      ],
      "metadata": {
        "id": "Zuf-syi4JeRA"
      }
    },
    {
      "cell_type": "code",
      "source": [
        "person = {'name': 'Alice', 'city': 'Paris'}\n",
        "print(\"city\" in person)"
      ],
      "metadata": {
        "id": "uWqQ_qaNJhQG"
      },
      "execution_count": null,
      "outputs": []
    },
    {
      "cell_type": "markdown",
      "source": [
        "26. Create a list, a tuple, and a dictionary, and print them all"
      ],
      "metadata": {
        "id": "zYF48d2TJkbi"
      }
    },
    {
      "cell_type": "code",
      "source": [
        "my_list = [1, 2, 3]\n",
        "my_tuple = (4, 5, 6)\n",
        "my_dict = {'a': 1, 'b': 2}\n",
        "print(my_list)\n",
        "print(my_tuple)\n",
        "print(my_dict)"
      ],
      "metadata": {
        "id": "RV6wAbfdJnDg"
      },
      "execution_count": null,
      "outputs": []
    },
    {
      "cell_type": "markdown",
      "source": [
        "27. Create a list of 5 random numbers between 1 and 100, sort in ascending order, and print\n",
        "import random"
      ],
      "metadata": {
        "id": "ksB_Pp69JpGX"
      }
    },
    {
      "cell_type": "code",
      "source": [
        "random_list = random.sample(range(1, 101), 5)\n",
        "random_list.sort()\n",
        "print(random_list)"
      ],
      "metadata": {
        "id": "y_eADPk6JrMf"
      },
      "execution_count": null,
      "outputs": []
    },
    {
      "cell_type": "markdown",
      "source": [
        "28. Create a list with strings and print the element at the third index"
      ],
      "metadata": {
        "id": "PtM1vOjcJtUx"
      }
    },
    {
      "cell_type": "code",
      "source": [
        "string_list = [\"apple\", \"banana\", \"cherry\", \"date\", \"fig\"]\n",
        "print(string_list[3])\n"
      ],
      "metadata": {
        "id": "skTahkDZJv5C"
      },
      "execution_count": null,
      "outputs": []
    },
    {
      "cell_type": "markdown",
      "source": [
        "29. Combine two dictionaries into one and print the result"
      ],
      "metadata": {
        "id": "rx-8C2aAJxzq"
      }
    },
    {
      "cell_type": "code",
      "source": [
        "dict1 = {'a': 1, 'b': 2}\n",
        "dict2 = {'c': 3, 'd': 4}\n",
        "combined = {**dict1, **dict2}\n",
        "print(combined)"
      ],
      "metadata": {
        "id": "mU49bTuQJzxv"
      },
      "execution_count": null,
      "outputs": []
    },
    {
      "cell_type": "markdown",
      "source": [],
      "metadata": {
        "id": "uYad2VPYI1zf"
      }
    }
  ]
}